{
 "cells": [
  {
   "cell_type": "code",
   "execution_count": 4,
   "metadata": {
    "collapsed": false
   },
   "outputs": [],
   "source": [
    "from pylab import *;\n",
    "\n",
    "def f(x):\n",
    "    return(.3*x*(1-x))\n",
    "\n",
    "def simulate_time(N):\n",
    "    x = 0;\n",
    "    t = 0;\n",
    "    while (X<1):\n",
    "        u = rand()\n",
    "        if u < f(x):\n",
    "            x += 1/N\n",
    "        else:\n",
    "            x -= 1/N\n",
    "        t += 1;\n",
    "    return t\n"
   ]
  },
  {
   "cell_type": "code",
   "execution_count": null,
   "metadata": {
    "collapsed": true
   },
   "outputs": [],
   "source": [
    "si"
   ]
  }
 ],
 "metadata": {
  "kernelspec": {
   "display_name": "Python 3",
   "language": "python",
   "name": "python3"
  },
  "language_info": {
   "codemirror_mode": {
    "name": "ipython",
    "version": 3
   },
   "file_extension": ".py",
   "mimetype": "text/x-python",
   "name": "python",
   "nbconvert_exporter": "python",
   "pygments_lexer": "ipython3",
   "version": "3.4.4"
  }
 },
 "nbformat": 4,
 "nbformat_minor": 0
}
