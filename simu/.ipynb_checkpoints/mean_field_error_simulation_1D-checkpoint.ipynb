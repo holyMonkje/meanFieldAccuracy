{
 "cells": [
  {
   "cell_type": "code",
   "execution_count": 1,
   "metadata": {
    "collapsed": false
   },
   "outputs": [],
   "source": [
    "# we implement a discret-time version of the birth-death process described in the paper\n",
    "\n",
    "from pylab import *;\n",
    "import pandas as pd;\n",
    "from scipy.interpolate import interp1d\n",
    "\n",
    "%matplotlib inline\n",
    "\n",
    "def simu(f,x0,N,timeHorizon):\n",
    "    P = [0 for i in range(0,N+1)]\n",
    "    P[int(N*x0)] = 1;\n",
    "    m = [x0];\n",
    "    v = [x0**2];\n",
    "    T = [0];\n",
    "    myF = [f(i/N) for i in range(0,N+1)];\n",
    "    \n",
    "    for t in range(0,timeHorizon*N):\n",
    "        newP = [0 for i in range(0,N+1)];\n",
    "        for i in range(1,N):\n",
    "            newP[i] = 1/2*P[i] + (1/4+myF[i-1]/2) * P[i-1] + (1/4-myF[i+1]/2) * P[i+1];\n",
    "        newP[0] = (3/4-myF[0]/2) * P[0] + (1/4-myF[1]/2)*P[1];\n",
    "        newP[N] = (3/4+myF[N]/2) * P[N] + (1/4+myF[N-1]/2)*P[N-1];\n",
    "        P = newP;\n",
    "        m.append(sum([i*P[i] for i in range(1,N+1)])/N);\n",
    "        v.append(sum([(i**2)*P[i] for i in range(1,N+1)])/N/N);\n",
    "        T.append((t+1)/N);\n",
    "    #print(P)\n",
    "    return((T,m,v))\n",
    "\n",
    "def ode(f,x0,timeHorizon):\n",
    "    h = 0.0001;\n",
    "    m = [x0];\n",
    "    x = x0;\n",
    "    T = [0]\n",
    "    for t in range(0,int(timeHorizon/h)):\n",
    "        x = x+h*f(x);\n",
    "        m.append(x)\n",
    "        T.append((t+1)*h)\n",
    "    return((T,m));\n",
    "\n",
    "def steady_state(f,N):\n",
    "    P = zeros(N+1);\n",
    "    P[int(N/2)] = 1;\n",
    "    for i in range(int(N/2),N):\n",
    "        P[i+1] = (1+1/2*f((i)/N)) / (1-1/2*f((i+1)/N)) * P[i];\n",
    "    for i in range(int(N/2),0,-1):\n",
    "        P[i-1] = (1-1/2*f((i)/N)) / (1+1/2*f((i-1)/N)) * P[i];\n",
    "    P[-1] = P[-2] * (1+1/2*f((N-1)/N)) / (-f(1))\n",
    "    P[0] = (1-1/2*f(1/N))/f(0) * P[1]\n",
    "    return(P/sum(P))\n",
    "def steady_state_OLD(f,N):\n",
    "    p = f(0)/(1-1/2*f(1/N));\n",
    "    P = [1,p];\n",
    "    for i in range(1,N):\n",
    "        p *= (1+1/2*f((i)/N)) / (1-1/2*f((i+1)/N))\n",
    "        P.append(p);\n",
    "    P[-1] = P[-2] * (1+1/2*f((N-1)/N)) / (-f(1))\n",
    "    P = array(P);\n",
    "    return(P/sum(P))\n",
    "#S1 = steady_state(lambda x:f_Calpha(x,.5),20)\n",
    "#S2 = steady_state_OLD(lambda x:f_Calpha(x,.5),20)\n",
    "#print(S1-S2)"
   ]
  },
  {
   "cell_type": "code",
   "execution_count": 2,
   "metadata": {
    "collapsed": false
   },
   "outputs": [
    {
     "data": {
      "image/png": "[encoded data removed]",
      "text/plain": [
       "<matplotlib.figure.Figure at 0x115a89ef0>"
      ]
     },
     "metadata": {},
     "output_type": "display_data"
    }
   ],
   "source": [
    "def f_Lipschitz(x):\n",
    "    y = -.5*(x-.5) if x>.5 else .5-x\n",
    "    return(y)\n",
    "def f_C1(x):\n",
    "    y = -(x-.5) + ((x-.5)**1.5 if x>.5 else 0)\n",
    "    return(y)\n",
    "def f_C2(x):\n",
    "    y = -(x-.5) + ((x-.5)**2 if x>.5 else 0)\n",
    "    return(y ) \n",
    "def f_Calpha(x,alpha):\n",
    "    y = -(x-.5) + .5*(abs(x-.5))**(1+alpha) # ((x-.5)**(1+alpha) if x>.5 else -.5*(x-.5)**2)\n",
    "    return(y)\n",
    "\n",
    "if True:\n",
    "    f1 = figure(0); \n",
    "    xx = linspace(0,1,100)\n",
    "    for alpha in [0,.5,1]:\n",
    "        plot(xx,[f_Calpha(x,alpha) for x in xx])\n",
    "        #plot(xx,[f_Lipschitz(x) for x in xx]); xlabel('x'); ylabel('f(x)')\n",
    "        #plot(xx,[f_C1(x) for x in xx])\n",
    "        #plot(xx,[f_C2(x) for x in xx])\n",
    "    legend(('$f_0$','$f_{0.5}$','$f_1$'))\n",
    "    f1.savefig('functions_f.pdf',bbox_inches='tight')\n",
    "\n",
    "if False:\n",
    "    for (k,alpha) in enumerate([0,.5,1]):\n",
    "        f = lambda x: f_Calpha(x,alpha);\n",
    "        #for (k,f) in enumerate([f_Lipschitz, f_C1, f_C2]):\n",
    "        fig = figure(k+1)\n",
    "        fig.set_size_inches(4,3);\n",
    "        x0 = 0.4\n",
    "        for N in [10,50,100,500]:\n",
    "            (t1,m1,v1) = simu(f,x0,N=N, timeHorizon=10)\n",
    "            plot(t1,m1)\n",
    "        (t2,m2) = ode(f,x0, timeHorizon=10)\n",
    "        plot(t2,m2,'--')\n",
    "        xlim([0,8])\n",
    "        ylim([.4,.56])\n",
    "        xlabel('time t'); ylabel('E[X^N(t)]')\n",
    "        legend((' $N=10$', '$N=50$', '$N=100$', '$N=500$', '$N=+\\infty$ (limit)'),loc='best')\n",
    "        fig.savefig('mean_vs_time_C{}.pdf'.format(k),bbox_inches='tight')\n"
   ]
  },
  {
   "cell_type": "code",
   "execution_count": null,
   "metadata": {
    "collapsed": false
   },
   "outputs": [],
   "source": []
  },
  {
   "cell_type": "code",
   "execution_count": 4,
   "metadata": {
    "collapsed": false
   },
   "outputs": [
    {
     "name": "stdout",
     "output_type": "stream",
     "text": [
      " 1000 0\n",
      " 1000 0.01\n",
      " 1000 0.02\n",
      " 1000 0.05\n",
      " 1000 0.1\n",
      " 1000 0.2\n",
      " 1000 0.3\n",
      " 1000 0.4\n",
      " 1000 0.5\n",
      " 1000 0.6\n",
      " 1000 0.7\n",
      " 1000 0.8\n",
      " 1000 0.9\n",
      " 1000 1\n"
     ]
    }
   ],
   "source": [
    "x0=0.5;\n",
    "TMAX=2;\n",
    "fileNameCVS = 'birthDeath_Nold_x0{0}_Tmax{1}.csv'.format(int(10*x0),TMAX)\n",
    "try:\n",
    "    q = pd.DataFrame.from_csv(fileNameCVS)\n",
    "except:\n",
    "    print(\"Unexpected error:\", sys.exc_info()[0])\n",
    "    q = pd.DataFrame({'N':[], 'f':[], 'T':[], 'XN':[], 'x':[]})\n",
    "#for (k,f) in enumerate([f_Lipschitz, f_C1, f_C2]):\n",
    "alphaS = [0,.01,.02,.05,.1,.2,.3,.4,.5,.6,.7,.8,.9,1]\n",
    "#[alphaS.append(a) for a in linspace(0,1,6)[1:-1]]\n",
    "#alphaS.append(1);\n",
    "#alphaS.append(1.1);\n",
    "#alphaS.append(1.5);\n",
    "for k in alphaS:\n",
    "    #linspace(0,1,10): #enumerate([f_Lipschitz, f_C1, f_C2]):\n",
    "    f = lambda x: f_Calpha(x,k)\n",
    "    (t2,m2) = ode(f,x0, timeHorizon=TMAX+.1)\n",
    "    for N  in [10,20,50,100,200,300,500,1000]: #,500,1000]:\n",
    "        if not ((q['N']==N) & (q['f']==k)).any():\n",
    "            (t,M,V) = simu(f,x0,N, timeHorizon=TMAX)\n",
    "            for T in [1,TMAX]:\n",
    "                x = interp1d(t2,m2)(T)\n",
    "                X = interp1d(t,M)(T)\n",
    "                v = interp1d(t,V)(T)\n",
    "                q = q.append( {'N':N, 'f':k, 'T':T, 'XN':X,  'VN':v-2*X*x+x**2, 'x':x} , ignore_index=True)\n",
    "        #else:\n",
    "            #for T in [1,2,3,4,5]:\n",
    "            #    x = interp1d(t2,m2)(T)\n",
    "            #    oldX = q.x[(q['N']==N) & (q['T']==T) & (q['f']==k)]\n",
    "            #    q.x[(q['N']==N) & (q['T']==T) & (q['f']==k)] = double(x)\n",
    "                # print(oldX-x)\n",
    "        print('\\r',N,k,end='')\n",
    "    print('')\n",
    "    \n",
    "q.to_csv(fileNameCVS)"
   ]
  },
  {
   "cell_type": "code",
   "execution_count": 5,
   "metadata": {
    "collapsed": true
   },
   "outputs": [],
   "source": [
    "# Steady-state\n",
    "def error_SS(myN,alpha):\n",
    "    values = zeros(len(myN))\n",
    "    for (i,N) in enumerate(myN):\n",
    "        P = steady_state(lambda x: f_Calpha(x,alpha),N)\n",
    "        values[i] = sum(arange(N+1) * P)/N - 0.5;\n",
    "    return(values)\n",
    "def exponent_SS(alpha):\n",
    "    Nmax=10**5;\n",
    "    Nmin=10**4;\n",
    "    valueMax = sum(arange(Nmax+1) * steady_state(lambda x: f_Calpha(x,alpha),Nmax))/Nmax-0.5\n",
    "    valueMin = sum(arange(Nmin+1) * steady_state(lambda x: f_Calpha(x,alpha),Nmin))/Nmin-0.5\n",
    "    #print(valueMin,valueMax)\n",
    "    return(log(valueMin/valueMax)/log(10))\n",
    "def exponent_SS_L2(alpha):\n",
    "    Nmax=10**5;\n",
    "    Nmin=10**4;\n",
    "    Pmax = steady_state(lambda x: f_Calpha(x,alpha),Nmax);\n",
    "    Pmin = steady_state(lambda x: f_Calpha(x,alpha),Nmin);\n",
    "    valueMax = sqrt(sum((arange(Nmax+1)/Nmax-0.5)**2 * Pmax ));\n",
    "    valueMin = sqrt(sum((arange(Nmin+1)/Nmin-0.5)**2 * Pmin ));\n",
    "    #print(valueMin,valueMax)\n",
    "    return(log(valueMin/valueMax)/log(10))"
   ]
  },
  {
   "cell_type": "code",
   "execution_count": null,
   "metadata": {
    "collapsed": true
   },
   "outputs": [],
   "source": []
  },
  {
   "cell_type": "code",
   "execution_count": 23,
   "metadata": {
    "collapsed": false
   },
   "outputs": [],
   "source": [
    "#q[(q['T']==50)]#q.to_csv(fileNameCVS)"
   ]
  },
  {
   "cell_type": "code",
   "execution_count": 7,
   "metadata": {
    "collapsed": false
   },
   "outputs": [
    {
     "data": {
      "image/png": "[encoded data removed]",
      "text/plain": [
       "<matplotlib.figure.Figure at 0x115fe98d0>"
      ]
     },
     "metadata": {},
     "output_type": "display_data"
    }
   ],
   "source": [
    "Texp=1\n",
    "def evaluate_exponent(f,Nmin=100):\n",
    "    x = q[(q['f']==f) & (q['T']==Texp)]\n",
    "    Nmax=max(x['N'])\n",
    "    #Nmin=100\n",
    "    yMAX = double(x[x['N']==Nmax]['XN'] - x[x['N']==Nmax]['x'])\n",
    "    yMIN = double(x[x['N']==Nmin]['XN'] - x[x['N']==Nmin]['x'])\n",
    "    alpha = log(yMAX/yMIN) / log(Nmin/Nmax)\n",
    "    #print(yMAX)\n",
    "    C = yMIN * Nmin**alpha;\n",
    "    return( [C,alpha] )\n",
    "def evaluate_exponent_var(f,Nmin=100):\n",
    "    x = q[(q['f']==f) & (q['T']==Texp)]\n",
    "    Nmax=max(x['N'])\n",
    "    #Nmin=100\n",
    "    yMAX = double(x[x['N']==Nmax]['VN'] )\n",
    "    yMIN = double(x[x['N']==Nmin]['VN'] )\n",
    "    alpha = log(yMAX/yMIN) / log(Nmin/Nmax)\n",
    "    #print(yMAX)\n",
    "    C = yMIN * Nmin**alpha;\n",
    "    return( [C,alpha] )\n",
    "\n",
    "fig = figure();\n",
    "fig.set_size_inches(6,4)\n",
    "for Nmin in [300]:\n",
    "    e = [evaluate_exponent(f,Nmin)[1] for f in alphaS]\n",
    "    eV = array([evaluate_exponent_var(f,Nmin)[1] for f in alphaS])\n",
    "    plot(alphaS,e,'+-')\n",
    "    plot(alphaS,eV/2,'+-')\n",
    "myAlpha = linspace(0,1,11);\n",
    "plot(myAlpha,[exponent_SS_L2(alpha) for alpha in myAlpha],'+-')\n",
    "plot(myAlpha,[exponent_SS(alpha) for alpha in myAlpha],'d--')\n",
    "legend(('$E[X^N(1)]-x(1)$',\n",
    "        '$E[\\|X^N(1)-x(1)\\|]$',\n",
    "        '$E[X^N]-x$ (steady-state)',\n",
    "        '$E[\\|X^N(1)-x(1)\\|]$'),loc='best')\n",
    "\n",
    "xlabel('Coefficient $\\\\alpha$ of $f_{\\\\alpha}$')\n",
    "ylabel('Exponent')\n",
    "fig.savefig('exponent_birthDeath.pdf',bbox_inches='tight')"
   ]
  },
  {
   "cell_type": "code",
   "execution_count": 46,
   "metadata": {
    "collapsed": false
   },
   "outputs": [
    {
     "name": "stdout",
     "output_type": "stream",
     "text": [
      "0 [0.098787151266953921, 0.49822265119163928]\n",
      "0.5 [0.067753178765414909, 0.75138599495749359]\n",
      "1 [0.050339835746732314, 1.0010935390847946]\n",
      "0.000500869649317\n",
      "        N    T          XN    f  x       VN\n",
      "214  99.5  0.5  0.00050087  0.5  0 -0.49783\n",
      "0 [0.24287819108125144, 1.0008253875497009]\n",
      "0.5 [0.22238374502314448, 1.0036798870066506]\n",
      "1 [0.21851050101131753, 1.0015057835998329]\n",
      "0.00217000505534\n",
      "        N    T          XN    f  x       VN\n",
      "214  99.5  0.5  0.00050087  0.5  0 -0.49783\n"
     ]
    },
    {
     "data": {
      "image/png": "[encoded data removed]",
      "text/plain": [
       "<matplotlib.figure.Figure at 0x10b468630>"
      ]
     },
     "metadata": {},
     "output_type": "display_data"
    },
    {
     "data": {
      "image/png": "[encoded data removed]",
      "text/plain": [
       "<matplotlib.figure.Figure at 0x10a8fcf60>"
      ]
     },
     "metadata": {},
     "output_type": "display_data"
    }
   ],
   "source": [
    "# Convergence of the E[X^N]-x\n",
    "fig = figure()\n",
    "fig.set_size_inches(3,4)\n",
    "colors=['k','b','r']\n",
    "myAlphas = [0,0.5,1]\n",
    "for (k,f) in enumerate(myAlphas):\n",
    "    x = q[(q['f']==f) & (q['T']==Texp)]\n",
    "    loglog(x['N'], (x['XN']-x['x']),color=colors[k])\n",
    "for (k,f) in enumerate(myAlphas):\n",
    "    CE = evaluate_exponent(f)\n",
    "    print(f,CE)\n",
    "    loglog([10,10000], array([10,10000])**(-CE[1])* CE[0] ,'--',color=colors[k])\n",
    "print(100**(-CE[1])*CE[0])\n",
    "print(x[x['N']==100]-.5)\n",
    "xlim([10,1500])\n",
    "ylim([10**(-5),.11])\n",
    "text(950,.002,'$N^{-0.5}$')\n",
    "text(900,.00025,'$N^{-0.75}$')\n",
    "text(1000,.000035,'$N^{-1}$')\n",
    "#for f in [0,1,2]:\n",
    "ylabel('$E[X^N]-x$')\n",
    "xlabel('$N$')\n",
    "legend(('$f_0$','$f_{0.5}$','$f_1$'),loc='best'); #, '$0.2/\\sqrt{N}$','$0.3/N^{0.9}$','$0.2/N$'),loc='best')\n",
    "fig.savefig('rate_birthRate.pdf',bbox_inches='tight')\n",
    "\n",
    "# Convergence of the E[|X^N-x|]\n",
    "# note: in the code, the \"sqrt\" is to use the ROOT mean-square error (instead of mean-square)\n",
    "fig = figure()\n",
    "fig.set_size_inches(3,4)\n",
    "colors=['k','b','r']\n",
    "myAlphas = [0,0.5,1]\n",
    "for (k,f) in enumerate(myAlphas):\n",
    "    x = q[(q['f']==f) & (q['T']==Texp)]\n",
    "    loglog(x['N'], sqrt(x['VN']),color=colors[k])\n",
    "for (k,f) in enumerate(myAlphas):\n",
    "    CE = evaluate_exponent_var(f)\n",
    "    print(f,CE)\n",
    "    loglog([10,10000], array([10,10000])**(-CE[1]/2)* sqrt(CE[0]) ,'--',color=colors[k])\n",
    "print(100**(-CE[1])*CE[0])\n",
    "print(x[x['N']==100]-.5)\n",
    "xlim([10,1500])\n",
    "ylim([10**(-2),.5])\n",
    "text(950,.02,'$N^{-0.5}$')\n",
    "ylabel('$E[\\|X^N-x\\|]$')\n",
    "xlabel('$N$')\n",
    "#for f in [0,1,2]:\n",
    "legend(('$f_0$','$f_{0.5}$','$f_1$'),loc='best'); #, '$0.2/\\sqrt{N}$','$0.3/N^{0.9}$','$0.2/N$'),loc='best')\n",
    "fig.savefig('rate_birthRate_norm2.pdf',bbox_inches='tight')\n"
   ]
  },
  {
   "cell_type": "code",
   "execution_count": 107,
   "metadata": {
    "collapsed": false
   },
   "outputs": [
    {
     "data": {
      "text/plain": [
       "[<matplotlib.lines.Line2D at 0x1178c3f98>]"
      ]
     },
     "execution_count": 107,
     "metadata": {},
     "output_type": "execute_result"
    },
    {
     "data": {
      "image/png": "[encoded data removed]",
      "text/plain": [
       "<matplotlib.figure.Figure at 0x116df04e0>"
      ]
     },
     "metadata": {},
     "output_type": "display_data"
    }
   ],
   "source": [
    "\n",
    "\n",
    "myN = [10,20,50,100,200,300,500,1000,5000,10000];\n",
    "#for alpha in linspace(0,1,6):\n",
    "#    loglog(myN,error_SS(myN,alpha))\n",
    "figure();\n",
    "myAlpha = linspace(0,1,11);\n",
    "plot(myAlpha,[exponent_SS_L2(alpha) for alpha in myAlpha],'+-')\n",
    "plot(myAlpha,[exponent_SS(alpha) for alpha in myAlpha],'d--')\n",
    "plot(myAlpha,1/2+myAlpha/2)"
   ]
  },
  {
   "cell_type": "code",
   "execution_count": 258,
   "metadata": {
    "collapsed": false
   },
   "outputs": [
    {
     "data": {
      "image/png": "[encoded data removed]",
      "text/plain": [
       "<matplotlib.figure.Figure at 0x116b892e8>"
      ]
     },
     "metadata": {},
     "output_type": "display_data"
    }
   ],
   "source": [
    "def f(x):\n",
    "    B = 1\n",
    "    if x > .5:\n",
    "        return (-(abs(x-.5)))\n",
    "    else:\n",
    "        return(B*(abs(x-.5)))\n",
    "    \n",
    "x = array([array(simu(f,x0,N, timeHorizon=10))[1,-1] for N in myN])\n",
    "(t2,m2) = ode(f,x0, timeHorizon=10)\n",
    "\n",
    "f = figure()\n",
    "f.set_size_inches(10,5)\n",
    "err = abs( x - m2[-1] )\n",
    "subplot(1,3,1); plot(myN, err*myN); xlabel('N'); ylabel('E[x-x^*]*N')\n",
    "subplot(1,3,2); plot(myN, err*sqrt(myN)); xlabel('N'); ylabel('E[x-x^*]*\\sqrt(N)')\n",
    "subplot(1,3,3); loglog(myN, err); xlabel('N'); ylabel('E[x-x^*]')\n",
    "f.savefig('test_f_C2.pdf')\n"
   ]
  },
  {
   "cell_type": "code",
   "execution_count": 245,
   "metadata": {
    "collapsed": false
   },
   "outputs": [
    {
     "data": {
      "text/plain": [
       "array([ 0.49999734,  0.49999649,  0.4999959 ,  0.49999568,  0.49999557,\n",
       "        0.49999554,  0.49999551])"
      ]
     },
     "execution_count": 245,
     "metadata": {},
     "output_type": "execute_result"
    }
   ],
   "source": [
    "x"
   ]
  },
  {
   "cell_type": "code",
   "execution_count": 246,
   "metadata": {
    "collapsed": false
   },
   "outputs": [
    {
     "data": {
      "text/plain": [
       "0.4993262895219772"
      ]
     },
     "execution_count": 246,
     "metadata": {},
     "output_type": "execute_result"
    }
   ],
   "source": [
    "m2[-1]"
   ]
  },
  {
   "cell_type": "code",
   "execution_count": 247,
   "metadata": {
    "collapsed": false
   },
   "outputs": [
    {
     "data": {
      "text/plain": [
       "array([ 0.00067105,  0.00067021,  0.00066961,  0.00066939,  0.00066928,\n",
       "        0.00066925,  0.00066922])"
      ]
     },
     "execution_count": 247,
     "metadata": {},
     "output_type": "execute_result"
    }
   ],
   "source": [
    "err"
   ]
  },
  {
   "cell_type": "code",
   "execution_count": 248,
   "metadata": {
    "collapsed": false
   },
   "outputs": [
    {
     "data": {
      "text/plain": [
       "array([ 0.00671054,  0.0134041 ,  0.0334804 ,  0.06693934,  0.13385659,\n",
       "        0.20077371,  0.33460786])"
      ]
     },
     "execution_count": 248,
     "metadata": {},
     "output_type": "execute_result"
    }
   ],
   "source": [
    "err*myN"
   ]
  },
  {
   "cell_type": "code",
   "execution_count": 246,
   "metadata": {
    "collapsed": false
   },
   "outputs": [
    {
     "data": {
      "text/html": [
       "<div>\n",
       "<table border=\"1\" class=\"dataframe\">\n",
       "  <thead>\n",
       "    <tr style=\"text-align: right;\">\n",
       "      <th></th>\n",
       "      <th>N</th>\n",
       "      <th>T</th>\n",
       "      <th>XN</th>\n",
       "      <th>f</th>\n",
       "      <th>x</th>\n",
       "    </tr>\n",
       "  </thead>\n",
       "  <tbody>\n",
       "    <tr>\n",
       "      <th>9</th>\n",
       "      <td>10.0</td>\n",
       "      <td>10.0</td>\n",
       "      <td>0.663105641386587</td>\n",
       "      <td>0.0</td>\n",
       "      <td>0.5</td>\n",
       "    </tr>\n",
       "    <tr>\n",
       "      <th>20</th>\n",
       "      <td>20.0</td>\n",
       "      <td>10.0</td>\n",
       "      <td>0.6735909668639057</td>\n",
       "      <td>0.0</td>\n",
       "      <td>0.5</td>\n",
       "    </tr>\n",
       "    <tr>\n",
       "      <th>31</th>\n",
       "      <td>50.0</td>\n",
       "      <td>10.0</td>\n",
       "      <td>0.6530049961939675</td>\n",
       "      <td>0.0</td>\n",
       "      <td>0.5</td>\n",
       "    </tr>\n",
       "    <tr>\n",
       "      <th>42</th>\n",
       "      <td>100.0</td>\n",
       "      <td>10.0</td>\n",
       "      <td>0.6186548001258868</td>\n",
       "      <td>0.0</td>\n",
       "      <td>0.5</td>\n",
       "    </tr>\n",
       "    <tr>\n",
       "      <th>53</th>\n",
       "      <td>200.0</td>\n",
       "      <td>10.0</td>\n",
       "      <td>0.5854284288369355</td>\n",
       "      <td>0.0</td>\n",
       "      <td>0.5</td>\n",
       "    </tr>\n",
       "    <tr>\n",
       "      <th>64</th>\n",
       "      <td>300.0</td>\n",
       "      <td>10.0</td>\n",
       "      <td>0.5698184158253182</td>\n",
       "      <td>0.0</td>\n",
       "      <td>0.5</td>\n",
       "    </tr>\n",
       "  </tbody>\n",
       "</table>\n",
       "</div>"
      ],
      "text/plain": [
       "        N     T                  XN    f    x\n",
       "9    10.0  10.0   0.663105641386587  0.0  0.5\n",
       "20   20.0  10.0  0.6735909668639057  0.0  0.5\n",
       "31   50.0  10.0  0.6530049961939675  0.0  0.5\n",
       "42  100.0  10.0  0.6186548001258868  0.0  0.5\n",
       "53  200.0  10.0  0.5854284288369355  0.0  0.5\n",
       "64  300.0  10.0  0.5698184158253182  0.0  0.5"
      ]
     },
     "execution_count": 246,
     "metadata": {},
     "output_type": "execute_result"
    }
   ],
   "source": [
    "x"
   ]
  },
  {
   "cell_type": "code",
   "execution_count": 247,
   "metadata": {
    "collapsed": false
   },
   "outputs": [
    {
     "data": {
      "text/plain": [
       "0.1743382511707225"
      ]
     },
     "execution_count": 247,
     "metadata": {},
     "output_type": "execute_result"
    }
   ],
   "source": [
    "1.1*100**(-.4)"
   ]
  },
  {
   "cell_type": "code",
   "execution_count": null,
   "metadata": {
    "collapsed": true
   },
   "outputs": [],
   "source": []
  }
 ],
 "metadata": {
  "kernelspec": {
   "display_name": "Python 3",
   "language": "python",
   "name": "python3"
  },
  "language_info": {
   "codemirror_mode": {
    "name": "ipython",
    "version": 3
   },
   "file_extension": ".py",
   "mimetype": "text/x-python",
   "name": "python",
   "nbconvert_exporter": "python",
   "pygments_lexer": "ipython3",
   "version": "3.4.4"
  }
 },
 "nbformat": 4,
 "nbformat_minor": 0
}
